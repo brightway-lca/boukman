{
 "cells": [
  {
   "cell_type": "markdown",
   "id": "68889900-291b-4bf5-8ef2-68706ab5dc42",
   "metadata": {},
   "source": [
    "# Finding the highest weight path\n",
    "\n",
    "## Artificial example"
   ]
  },
  {
   "cell_type": "code",
   "execution_count": 1,
   "id": "e482233f-a2b5-4e2f-a63f-0eba6baddf27",
   "metadata": {},
   "outputs": [],
   "source": [
    "import bw_processing as bwp\n",
    "import matrix_utils as mu\n",
    "import sknetwork as skn\n",
    "import numpy as np\n",
    "from scipy import sparse\n",
    "from typing import List"
   ]
  },
  {
   "cell_type": "code",
   "execution_count": 2,
   "id": "b25d0563-889a-423a-8892-fb6fb6c22d69",
   "metadata": {},
   "outputs": [],
   "source": [
    "A = 101\n",
    "B = 102\n",
    "C = 103\n",
    "D = 104"
   ]
  },
  {
   "cell_type": "code",
   "execution_count": 3,
   "id": "00809687-5aed-483b-a68c-83830476591b",
   "metadata": {},
   "outputs": [],
   "source": [
    "edges = np.array([\n",
    "    (A, A),\n",
    "    (B, B),\n",
    "    (C, C),\n",
    "    (D, D),\n",
    "    (A, B),\n",
    "    (A, C),\n",
    "    (A, D),\n",
    "    (B, C),\n",
    "    (C, D),\n",
    "    (D, C),\n",
    "], dtype=bwp.INDICES_DTYPE)\n",
    "data = np.array([1, 2, 1, 1, 2, 0.5, 0.01, 3, 1, 0.2])\n",
    "flip = np.array([0, 0, 0, 0, 1, 1, 1, 1, 1, 1], dtype=bool)"
   ]
  },
  {
   "cell_type": "code",
   "execution_count": 4,
   "id": "82c3517b-4841-4ee9-844f-da83dc993f29",
   "metadata": {},
   "outputs": [],
   "source": [
    "dp = bwp.create_datapackage()\n",
    "dp.add_persistent_vector(\n",
    "    matrix=\"example\",\n",
    "    data_array = data,\n",
    "    indices_array=edges,\n",
    "    flip_array=flip\n",
    ")"
   ]
  },
  {
   "cell_type": "code",
   "execution_count": 5,
   "id": "232688a9-29d1-45a4-8443-073a55a2f6fc",
   "metadata": {},
   "outputs": [],
   "source": [
    "mm = mu.MappedMatrix(packages=[dp], matrix=\"example\")"
   ]
  },
  {
   "cell_type": "code",
   "execution_count": 6,
   "id": "976ea565-3793-4d63-a0ee-c93ee80a8b51",
   "metadata": {},
   "outputs": [],
   "source": [
    "def to_normalized_adjacency_matrix(mapped_matrix: mu.MappedMatrix, log_transform: bool = True) -> sparse.csr_matrix:\n",
    "    \"\"\"Take a technosphere matrix constructed with Brightway conventions, and return a normalized adjacency matrix.\n",
    "    \n",
    "    In the adjacency matrix A, `A[i,j]` indicates a directed edge **from** row `i` **to** column `j`. This fits \n",
    "    the Brightway mode, where `A[i,j]` means **activity** `j` consumes the output of activity `i`. In other words,\n",
    "    this matrix is ready for traversal from a functional unit to a supplier; to go in the opposite direction,\n",
    "    use the transpose of this matrix.\n",
    "    \n",
    "    Normalization is done to remove the effect of activities which don't produce one unit of their reference product. \n",
    "    For example, if activity `foo` produces two units of `bar` and consumes two units of `baz`, the weight of the \n",
    "    `baz` edge should be 2 / 2 = 1.\n",
    "    \n",
    "    In addition to this normalization, we subtract the diagonal and flip the signs of all matrix values. Flipping \n",
    "    the sign is needed because we want to use a shortest path algorithm, but actually want the longest path. The\n",
    "    longest path is the path with the highest weight, i.e. the path where the most consumption occurs on.\n",
    "    \n",
    "    By default, we also take the natural log of the data values. This is because our supply chain is multiplicative,\n",
    "    not additive, and $ a \\cdot b = e^{\\ln(a) + \\ln(b)}$.\n",
    "    \n",
    "    Assumes that production amounts are on the diagonal.\n",
    "    \"\"\"\n",
    "    matrix = mapped_matrix.matrix.tocsr()\n",
    "\n",
    "    # TBD these values should the NET production values, i.e. we use the production exchanges to get the matrix\n",
    "    # indices, ensure that we have 1-1 match for production-activity, construct the normalization vector, turn\n",
    "    # into a diagonal matrix, and then multiply\n",
    "    normalization = sparse.diags(-1 * matrix.diagonal())\n",
    "    normalized = ((matrix * normalization) + sparse.eye(*matrix.shape))\n",
    "\n",
    "    if log_transform:\n",
    "        normalized = normalized.tocoo()\n",
    "        normalized.data = np.log(normalized.data) * -1\n",
    "        normalized = normalized.tocsr()\n",
    "        \n",
    "    return normalized"
   ]
  },
  {
   "cell_type": "code",
   "execution_count": 7,
   "id": "8dc1681f-d7e0-44b4-a332-df038a09c6ea",
   "metadata": {},
   "outputs": [
    {
     "data": {
      "text/plain": [
       "[0, 1, 2, 3]"
      ]
     },
     "execution_count": 7,
     "metadata": {},
     "output_type": "execute_result"
    }
   ],
   "source": [
    "skn.path.get_shortest_path(\n",
    "    adjacency = to_normalized_adjacency_matrix(mapped_matrix = mm),\n",
    "    sources = 0,\n",
    "    targets = 3,\n",
    "    method = 'BF', \n",
    "    unweighted = False,\n",
    ")"
   ]
  },
  {
   "cell_type": "markdown",
   "id": "e0f4227f-e569-4f94-a2db-909b3c5352e1",
   "metadata": {},
   "source": [
    "## With ecoinvent"
   ]
  },
  {
   "cell_type": "code",
   "execution_count": null,
   "id": "b22cc934-e998-4765-9c5b-275cbfb68000",
   "metadata": {},
   "outputs": [],
   "source": [
    "import bw2data as bd\n",
    "import bw2calc as bc"
   ]
  },
  {
   "cell_type": "code",
   "execution_count": null,
   "id": "7e678057-25bb-43fe-a9fd-2f904df3764f",
   "metadata": {},
   "outputs": [],
   "source": [
    "bd.projects.set_current(\"ecoinvent-3.9-cutoff\")"
   ]
  },
  {
   "cell_type": "code",
   "execution_count": null,
   "id": "f4fdadda-76bb-43a8-b0ef-d8d636943e79",
   "metadata": {},
   "outputs": [],
   "source": [
    "wafer = bd.get_activity(name=\"market for wafer, fabricated, for integrated circuit\")"
   ]
  },
  {
   "cell_type": "code",
   "execution_count": null,
   "id": "337087db-7b1b-44ea-9cdb-af7e676a34b5",
   "metadata": {},
   "outputs": [],
   "source": [
    "sg = bd.get_activity(name='sugarcane production', location=\"BR-PR\")"
   ]
  },
  {
   "cell_type": "code",
   "execution_count": null,
   "id": "ca67a331-a262-4879-90c2-50a4441ee6ed",
   "metadata": {},
   "outputs": [],
   "source": [
    "def path_as_brightway_objects(source_node: bd.Node, target_node: bd.Node) -> List[bd.Edge]:\n",
    "    lca = bc.LCA({source_node: 1, target_node: 1})\n",
    "    lca.lci()\n",
    "    \n",
    "    path = skn.path.get_shortest_path(\n",
    "        adjacency = to_normalized_adjacency_matrix(mapped_matrix = lca.technosphere_mm),\n",
    "        sources = lca.activity_dict[source_node.id],\n",
    "        targets = lca.activity_dict[target_node.id],\n",
    "        method = 'BF', \n",
    "        unweighted = False,\n",
    "    )\n",
    "    \n",
    "    return [\n",
    "        (\n",
    "            bd.get_node(id=lca.dicts.product.reversed[x]),\n",
    "            bd.get_node(id=lca.dicts.activity.reversed[y]),\n",
    "            -1 * lca.technosphere_matrix[x,y],\n",
    "        )\n",
    "        for x, y in zip(path[:-1], path[1:])\n",
    "    ]"
   ]
  },
  {
   "cell_type": "code",
   "execution_count": null,
   "id": "2d9cbdf6-e345-434e-8afd-e83068ce8683",
   "metadata": {},
   "outputs": [],
   "source": [
    "path_as_brightway_objects(wafer, sg)"
   ]
  },
  {
   "cell_type": "markdown",
   "id": "eb12d4e3-f758-4288-9a2d-874f98a50a3d",
   "metadata": {},
   "source": [
    "## With ecoinvent and uncertain matrix samples"
   ]
  },
  {
   "cell_type": "code",
   "execution_count": null,
   "id": "9d00788d-9fb0-43e9-a33e-e3225a286c98",
   "metadata": {},
   "outputs": [],
   "source": [
    "source_node, target_node = wafer, sg\n",
    "\n",
    "lca = bc.LCA({source_node: 1, target_node: 1}, use_distributions=True)\n",
    "lca.lci()\n",
    "\n",
    "path = skn.path.get_shortest_path(\n",
    "    adjacency = to_normalized_adjacency_matrix(mapped_matrix = lca.technosphere_mm),\n",
    "    sources = lca.activity_dict[source_node.id],\n",
    "    targets = lca.activity_dict[target_node.id],\n",
    "    method = 'BF', \n",
    "    unweighted = False,\n",
    ")\n",
    "\n",
    "[\n",
    "    (\n",
    "        bd.get_node(id=lca.dicts.product.reversed[x]),\n",
    "        bd.get_node(id=lca.dicts.activity.reversed[y]),\n",
    "        -1 * lca.technosphere_matrix[x,y],\n",
    "    )\n",
    "    for x, y in zip(path[:-1], path[1:])\n",
    "]"
   ]
  }
 ],
 "metadata": {
  "kernelspec": {
   "display_name": "Python 3 (ipykernel)",
   "language": "python",
   "name": "python3"
  },
  "language_info": {
   "codemirror_mode": {
    "name": "ipython",
    "version": 3
   },
   "file_extension": ".py",
   "mimetype": "text/x-python",
   "name": "python",
   "nbconvert_exporter": "python",
   "pygments_lexer": "ipython3",
   "version": "3.11.0"
  }
 },
 "nbformat": 4,
 "nbformat_minor": 5
}
